{
 "cells": [
  {
   "cell_type": "markdown",
   "metadata": {},
   "source": [
    "## Multigraphs with dash-cytoscape"
   ]
  },
  {
   "cell_type": "markdown",
   "metadata": {},
   "source": [
    "A multigraph is a graph that has multiple edges between two nodes. The Python graph libraries, networkx, \n",
    "and igraph although allow the\n",
    "definition and analysis of a multigraph, they cannot plot nicely such graphs.\n",
    "\n",
    "In this notebook we define a directed multigraph whose nodes are the top ten universities in Canada (as of 2018). There is at least an edge\n",
    "from the university u to v, if v hired as faculty a graduate from u. Data are extracted from the files connected to the paper\n",
    "*Systematic inequality and hierarchy in faculty\n",
    "hiring networks*, by AAron Clauset &al [http://advances.sciencemag.org/content/1/1/e1400005](http://advances.sciencemag.org/content/1/1/e1400005). They refer to hiring in  Computer Science departments, and are available [here](http://tuvalu.santafe.edu/~aaronc/facultyhiring/)."
   ]
  },
  {
   "cell_type": "code",
   "execution_count": 1,
   "metadata": {},
   "outputs": [
    {
     "name": "stdout",
     "output_type": "stream",
     "text": [
      "Python version: 3.7.1\n"
     ]
    }
   ],
   "source": [
    "import platform\n",
    "print(f'Python version: {platform.python_version()}')"
   ]
  },
  {
   "cell_type": "code",
   "execution_count": 2,
   "metadata": {},
   "outputs": [
    {
     "data": {
      "text/plain": [
       "'2.2'"
      ]
     },
     "execution_count": 2,
     "metadata": {},
     "output_type": "execute_result"
    }
   ],
   "source": [
    "import numpy as np\n",
    "import pandas as pd\n",
    "import json\n",
    "import networkx as nx\n",
    "nx.__version__"
   ]
  },
  {
   "cell_type": "code",
   "execution_count": 3,
   "metadata": {},
   "outputs": [
    {
     "data": {
      "text/html": [
       "<div>\n",
       "<style scoped>\n",
       "    .dataframe tbody tr th:only-of-type {\n",
       "        vertical-align: middle;\n",
       "    }\n",
       "\n",
       "    .dataframe tbody tr th {\n",
       "        vertical-align: top;\n",
       "    }\n",
       "\n",
       "    .dataframe thead th {\n",
       "        text-align: right;\n",
       "    }\n",
       "</style>\n",
       "<table border=\"1\" class=\"dataframe\">\n",
       "  <thead>\n",
       "    <tr style=\"text-align: right;\">\n",
       "      <th></th>\n",
       "      <th># u</th>\n",
       "      <th>pi</th>\n",
       "      <th>USN2010</th>\n",
       "      <th>NRC95</th>\n",
       "      <th>Region</th>\n",
       "      <th>institution</th>\n",
       "    </tr>\n",
       "  </thead>\n",
       "  <tbody>\n",
       "    <tr>\n",
       "      <th>0</th>\n",
       "      <td>1</td>\n",
       "      <td>2.23</td>\n",
       "      <td>1</td>\n",
       "      <td>1</td>\n",
       "      <td>West</td>\n",
       "      <td>Stanford University</td>\n",
       "    </tr>\n",
       "    <tr>\n",
       "      <th>1</th>\n",
       "      <td>2</td>\n",
       "      <td>2.31</td>\n",
       "      <td>1</td>\n",
       "      <td>3</td>\n",
       "      <td>West</td>\n",
       "      <td>UC Berkeley</td>\n",
       "    </tr>\n",
       "    <tr>\n",
       "      <th>2</th>\n",
       "      <td>3</td>\n",
       "      <td>3.52</td>\n",
       "      <td>1</td>\n",
       "      <td>2</td>\n",
       "      <td>Northeast</td>\n",
       "      <td>MIT</td>\n",
       "    </tr>\n",
       "    <tr>\n",
       "      <th>3</th>\n",
       "      <td>4</td>\n",
       "      <td>5.24</td>\n",
       "      <td>11</td>\n",
       "      <td>12</td>\n",
       "      <td>West</td>\n",
       "      <td>California Institute of Technology</td>\n",
       "    </tr>\n",
       "    <tr>\n",
       "      <th>4</th>\n",
       "      <td>5</td>\n",
       "      <td>6.12</td>\n",
       "      <td>17</td>\n",
       "      <td>11</td>\n",
       "      <td>Northeast</td>\n",
       "      <td>Harvard University</td>\n",
       "    </tr>\n",
       "  </tbody>\n",
       "</table>\n",
       "</div>"
      ],
      "text/plain": [
       "   # u    pi USN2010 NRC95   Region                           institution\n",
       "0    1  2.23       1     1  West                      Stanford University\n",
       "1    2  2.31       1     3  West                              UC Berkeley\n",
       "2    3  3.52       1     2  Northeast                                 MIT\n",
       "3    4  5.24      11    12  West       California Institute of Technology\n",
       "4    5  6.12      17    11  Northeast                  Harvard University"
      ]
     },
     "execution_count": 3,
     "metadata": {},
     "output_type": "execute_result"
    }
   ],
   "source": [
    "dfv=pd.read_csv('ComputerScience_vertexlist.txt', sep='\\t')\n",
    "dfv.head()"
   ]
  },
  {
   "cell_type": "code",
   "execution_count": 4,
   "metadata": {},
   "outputs": [
    {
     "data": {
      "text/plain": [
       "Index(['# u', 'pi', 'USN2010', 'NRC95', 'Region  ', 'institution'], dtype='object')"
      ]
     },
     "execution_count": 4,
     "metadata": {},
     "output_type": "execute_result"
    }
   ],
   "source": [
    "dfv.columns"
   ]
  },
  {
   "cell_type": "code",
   "execution_count": 5,
   "metadata": {},
   "outputs": [],
   "source": [
    "nodes=list(dfv['# u'])\n",
    "univ=list(dfv['institution'])"
   ]
  },
  {
   "cell_type": "code",
   "execution_count": 6,
   "metadata": {},
   "outputs": [
    {
     "data": {
      "text/html": [
       "<div>\n",
       "<style scoped>\n",
       "    .dataframe tbody tr th:only-of-type {\n",
       "        vertical-align: middle;\n",
       "    }\n",
       "\n",
       "    .dataframe tbody tr th {\n",
       "        vertical-align: top;\n",
       "    }\n",
       "\n",
       "    .dataframe thead th {\n",
       "        text-align: right;\n",
       "    }\n",
       "</style>\n",
       "<table border=\"1\" class=\"dataframe\">\n",
       "  <thead>\n",
       "    <tr style=\"text-align: right;\">\n",
       "      <th></th>\n",
       "      <th># u</th>\n",
       "      <th>v</th>\n",
       "      <th>rank</th>\n",
       "      <th>gender</th>\n",
       "    </tr>\n",
       "  </thead>\n",
       "  <tbody>\n",
       "    <tr>\n",
       "      <th>0</th>\n",
       "      <td>1</td>\n",
       "      <td>1</td>\n",
       "      <td>Asst</td>\n",
       "      <td>M</td>\n",
       "    </tr>\n",
       "    <tr>\n",
       "      <th>1</th>\n",
       "      <td>1</td>\n",
       "      <td>1</td>\n",
       "      <td>Assoc</td>\n",
       "      <td>M</td>\n",
       "    </tr>\n",
       "    <tr>\n",
       "      <th>2</th>\n",
       "      <td>1</td>\n",
       "      <td>1</td>\n",
       "      <td>Assoc</td>\n",
       "      <td>M</td>\n",
       "    </tr>\n",
       "    <tr>\n",
       "      <th>3</th>\n",
       "      <td>1</td>\n",
       "      <td>1</td>\n",
       "      <td>Full</td>\n",
       "      <td>M</td>\n",
       "    </tr>\n",
       "    <tr>\n",
       "      <th>4</th>\n",
       "      <td>1</td>\n",
       "      <td>1</td>\n",
       "      <td>Full</td>\n",
       "      <td>M</td>\n",
       "    </tr>\n",
       "  </tbody>\n",
       "</table>\n",
       "</div>"
      ],
      "text/plain": [
       "   # u  v   rank gender\n",
       "0    1  1   Asst      M\n",
       "1    1  1  Assoc      M\n",
       "2    1  1  Assoc      M\n",
       "3    1  1   Full      M\n",
       "4    1  1   Full      M"
      ]
     },
     "execution_count": 6,
     "metadata": {},
     "output_type": "execute_result"
    }
   ],
   "source": [
    "dfe=pd.read_csv('ComputerScience_edgelist.txt', sep='\\t')\n",
    "dfe.head()"
   ]
  },
  {
   "cell_type": "code",
   "execution_count": 7,
   "metadata": {},
   "outputs": [
    {
     "data": {
      "text/plain": [
       "Index(['# u', 'v', 'rank', 'gender'], dtype='object')"
      ]
     },
     "execution_count": 7,
     "metadata": {},
     "output_type": "execute_result"
    }
   ],
   "source": [
    "dfe.columns"
   ]
  },
  {
   "cell_type": "code",
   "execution_count": 8,
   "metadata": {},
   "outputs": [],
   "source": [
    "edges =[(u, v) for u, v in zip(dfe['# u'], dfe['v'])]\n",
    "rank = list(dfe['rank'])\n",
    "gender = list(dfe['gender'])"
   ]
  },
  {
   "cell_type": "code",
   "execution_count": 9,
   "metadata": {},
   "outputs": [
    {
     "data": {
      "text/plain": [
       "{'Assoc', 'Asst', 'Full'}"
      ]
     },
     "execution_count": 9,
     "metadata": {},
     "output_type": "execute_result"
    }
   ],
   "source": [
    "set(rank)"
   ]
  },
  {
   "cell_type": "markdown",
   "metadata": {},
   "source": [
    "Define a directed multigraph as an instance of `networkx.MultiDiGraph()` class:"
   ]
  },
  {
   "cell_type": "code",
   "execution_count": 27,
   "metadata": {},
   "outputs": [],
   "source": [
    "G = nx.MultiDiGraph()\n",
    "G.add_nodes_from(nodes)\n",
    "#G.add_edges_from(edges)  # UNCOMMENT this line; it is commented because it automatically displays a long list of \n",
    "                          # edge end nodes (why???)"
   ]
  },
  {
   "cell_type": "markdown",
   "metadata": {},
   "source": [
    "Define a few  dicts, (node: attribute) and (edge: attribute):"
   ]
  },
  {
   "cell_type": "code",
   "execution_count": 11,
   "metadata": {},
   "outputs": [],
   "source": [
    "labels = dict(zip(nodes, univ))\n",
    "edges_keys = [e for   e in G.edges(keys=True)] # edges with keys=True, such as (u,v, j),  means that the \n",
    "                                               # edge (u, v) is the (j+1)^th  edge  connecting\n",
    "                                               # the  nodes u, v\n",
    "frank = dict(zip(edges_keys, rank))\n",
    "gender = dict(zip(edges_keys, gender))"
   ]
  },
  {
   "cell_type": "code",
   "execution_count": 12,
   "metadata": {},
   "outputs": [],
   "source": [
    "nx.set_node_attributes(G, labels, 'univ') # important!!!  labels, frank, gender  must be dicts\n",
    "nx.set_edge_attributes(G, frank, 'rank')\n",
    "nx.set_edge_attributes(G, gender, 'gender')"
   ]
  },
  {
   "cell_type": "markdown",
   "metadata": {},
   "source": [
    "Extract from the multigraph G, the submultigraph generated bu 10 nodes representing Canadian universities:"
   ]
  },
  {
   "cell_type": "code",
   "execution_count": 13,
   "metadata": {},
   "outputs": [],
   "source": [
    "sbg_nodes = [21, 46, 55, 57, 65, 78, 80, 91, 93, 95]   \n",
    "g = G.subgraph(sbg_nodes)\n",
    "g_rank = nx.get_edge_attributes(g, 'rank')"
   ]
  },
  {
   "cell_type": "code",
   "execution_count": 14,
   "metadata": {},
   "outputs": [
    {
     "data": {
      "text/plain": [
       "{65: 'University of Montreal',\n",
       " 46: 'University of British Columbia',\n",
       " 78: 'McMaster University',\n",
       " 80: 'University of Alberta',\n",
       " 21: 'University of Toronto',\n",
       " 55: 'University of Waterloo',\n",
       " 57: 'McGill University',\n",
       " 91: 'University of Calgary',\n",
       " 93: 'University of Western Ontario',\n",
       " 95: 'Queens University'}"
      ]
     },
     "execution_count": 14,
     "metadata": {},
     "output_type": "execute_result"
    }
   ],
   "source": [
    "g_univ = nx.get_node_attributes(g, 'univ')\n",
    "g_univ"
   ]
  },
  {
   "cell_type": "markdown",
   "metadata": {},
   "source": [
    "Shorten node labels:"
   ]
  },
  {
   "cell_type": "code",
   "execution_count": 15,
   "metadata": {},
   "outputs": [
    {
     "data": {
      "text/plain": [
       "{65: 'U of Montreal',\n",
       " 46: 'U of British Columbia',\n",
       " 78: 'McMaster U',\n",
       " 80: 'U of Alberta',\n",
       " 21: 'U of Toronto',\n",
       " 55: 'U of Waterloo',\n",
       " 57: 'McGill U',\n",
       " 91: 'U of Calgary',\n",
       " 93: 'U of Western Ontario',\n",
       " 95: 'Queens U'}"
      ]
     },
     "execution_count": 15,
     "metadata": {},
     "output_type": "execute_result"
    }
   ],
   "source": [
    "for k in g_univ.keys():\n",
    "    if 'University' in g_univ[k]:\n",
    "        g_univ[k] = g_univ[k].replace('University', 'U')\n",
    "g_univ        "
   ]
  },
  {
   "cell_type": "markdown",
   "metadata": {},
   "source": [
    "Define 10 distinct equally spaced points on a circle (node positions). Since dash-cytoscape (via cytoscape.js) plots a graph in a pixel sytem of coordinates, we generate the nodes referenced to such a system, xOy, with Ox going from left to right, and Oy, pointing downward (in the direction of gravity):"
   ]
  },
  {
   "cell_type": "code",
   "execution_count": 16,
   "metadata": {},
   "outputs": [],
   "source": [
    "t = np.linspace(np.pi/2, 5*np.pi/2, 11)\n",
    "x = 200*np.cos(t)\n",
    "y = -200*np.sin(t)"
   ]
  },
  {
   "cell_type": "markdown",
   "metadata": {},
   "source": [
    " After running the corresponding app  with circle layout, we chose the following node positions:"
   ]
  },
  {
   "cell_type": "code",
   "execution_count": 17,
   "metadata": {},
   "outputs": [],
   "source": [
    "g_pos={65: [x[5], y[5]],\n",
    "       46: [x[6], y[6]],\n",
    "       78: [x[7], y[7]],\n",
    "       80: [x[8], y[8]],\n",
    "       21: [x[9], y[9]],\n",
    "       55: [x[0], y[0]],\n",
    "       57: [x[1], y[1]],\n",
    "       91: [x[2], y[2]],\n",
    "       93: [x[3], y[3]],\n",
    "       95: [x[4], y[4]]}"
   ]
  },
  {
   "cell_type": "code",
   "execution_count": 18,
   "metadata": {},
   "outputs": [
    {
     "name": "stdout",
     "output_type": "stream",
     "text": [
      "65 {'x': -3.6739403974420595e-14, 'y': 200.0}\n",
      "46 {'x': 117.55705045849459, 'y': 161.8033988749895}\n",
      "78 {'x': 190.2113032590307, 'y': 61.80339887498953}\n",
      "80 {'x': 190.21130325903073, 'y': -61.80339887498943}\n",
      "21 {'x': 117.55705045849467, 'y': -161.80339887498945}\n",
      "55 {'x': 1.2246467991473532e-14, 'y': -200.0}\n",
      "57 {'x': -117.5570504584946, 'y': -161.80339887498948}\n",
      "91 {'x': -190.2113032590307, 'y': -61.803398874989504}\n",
      "93 {'x': -190.21130325903073, 'y': 61.803398874989455}\n",
      "95 {'x': -117.55705045849464, 'y': 161.80339887498945}\n"
     ]
    }
   ],
   "source": [
    "for  node in g.nodes():\n",
    "    position = {\"x\": g_pos[node][0], \"y\": g_pos[node][1]}\n",
    "    print(node, position)   "
   ]
  },
  {
   "cell_type": "markdown",
   "metadata": {},
   "source": [
    "Define the `elements` and `stylesheet` for a dash-cytoscape app:"
   ]
  },
  {
   "cell_type": "code",
   "execution_count": 19,
   "metadata": {},
   "outputs": [],
   "source": [
    "node_dict = {\n",
    "        \"group\": \"nodes\",\n",
    "        \"selectable\": True,\n",
    "        \"selected\": False,\n",
    "        \"locked\": False,\n",
    "        \"grabbable\": True,\n",
    "    }\n",
    "\n",
    "edge_dict = {\n",
    "        \"group\": \"edges\",\n",
    "        \"removed\": False,\n",
    "        \"selected\": False,\n",
    "        \"selectable\": True,\n",
    "        \"locked\": False,\n",
    "        \"grabbable\": True,\n",
    "        \"classes\": \"\"\n",
    "    }"
   ]
  },
  {
   "cell_type": "code",
   "execution_count": 20,
   "metadata": {},
   "outputs": [],
   "source": [
    "elements = [{\"data\": {\"id\": str(node), \n",
    "                      \"label\": g_univ[node]\n",
    "                     },  \n",
    "             \"position\": {\"x\": g_pos[node][0], \"y\": g_pos[node][1]},\n",
    "              **node_dict} for  node in g.nodes() ]\n",
    "\n",
    "ids_lb =[ 55, 57, 91, 93]\n",
    "ids_rb =  [46, 78, 86]\n",
    "\n",
    "for elem in elements:\n",
    "    if elem['data']['id'] in ids_lb:\n",
    "        elem['classes'] = 'lb'\n",
    "    elif  elem['data']['id'] in ids_rb:\n",
    "        elem['classes'] = 'rb'\n",
    "    else: elem['classes'] = 'rc'  \n",
    "        "
   ]
  },
  {
   "cell_type": "code",
   "execution_count": 21,
   "metadata": {},
   "outputs": [],
   "source": [
    "n_nodes = len(sbg_nodes)\n",
    "\n",
    "for k, e  in enumerate(g.edges(keys=True)):\n",
    "    elements.append({\"data\": {\"id\": n_nodes+k+1,\n",
    "                              \"source\": str(e[0]),\n",
    "                              \"target\": str(e[1]),\n",
    "                              \"key\": e[2],\n",
    "                              'rank': frank[e],\n",
    "                              #'gender': gender[e]\n",
    "                           },\n",
    "                      **edge_dict})\n",
    "    \n",
    "    if g.number_of_edges(e[0], e[1]) == 1:\n",
    "        elements[-1]['classes'] = 'bezier' if  e[0] == e[1] else 'haystack'\n",
    "        \n",
    "    else:\n",
    "        elements[-1]['classes'] = 'bezier'\n",
    "    #print(elements[-1]['classes'])    "
   ]
  },
  {
   "cell_type": "markdown",
   "metadata": {},
   "source": [
    "Above we associated  the `classes` `'bezier'` to multiple edges connecting two nodes, respectively `'haystack'` for a  unique edge between two nodes.\n",
    "The former class(es) also refers to multiple loops connecting the same node (graduates from the university u are hired by the same university)."
   ]
  },
  {
   "cell_type": "markdown",
   "metadata": {},
   "source": [
    "The following lines of code change the default position of loops  to improve the network appearance. \n",
    "Obviously the new positions are\n",
    "chosen after running the dash app and inspecting the resulted network."
   ]
  },
  {
   "cell_type": "markdown",
   "metadata": {},
   "source": [
    "A loop consists in two symmetric quadratic Bezier curves. The  symmetry line is positioned \n",
    "via the styling key `'loop-direction'` that has as a default value `'-45deg'` (-45 degrees). \n",
    "The positive angles are measured clockwise, \n",
    "from the upward vertical at the node connected by that loop. A positive angle can take values in [0, 180], while a negative one\n",
    "in [-180, 0]."
   ]
  },
  {
   "cell_type": "code",
   "execution_count": 22,
   "metadata": {},
   "outputs": [],
   "source": [
    "nlist= [ '80', '78', '46']  #the list of nodes whose associated loop is modified"
   ]
  },
  {
   "cell_type": "code",
   "execution_count": 23,
   "metadata": {},
   "outputs": [],
   "source": [
    "for elem in elements[n_nodes:]:\n",
    "    if elem['data']['source'] == elem['data']['target'] and elem['data']['source'] in nlist:\n",
    "        elem['data']['loop'] = 90\n",
    "        \n",
    "        \n",
    "for elem in elements[n_nodes:]:\n",
    "    if   elem['data']['source'] == '55' and elem['data']['target'] == '55':\n",
    "        elem['data']['loop'] = 0\n",
    "        \n",
    "        \n",
    "for elem in elements[n_nodes:]:\n",
    "    if elem['data']['source'] == '21' and elem['data']['target'] == '21':\n",
    "        elem['data']['loop'] = 45\n",
    "        \n",
    "        \n",
    "for elem in elements[n_nodes:]:\n",
    "    if elem['data']['source'] == '65' and elem['data']['target'] == '65':\n",
    "        elem['data']['loop'] = -180        "
   ]
  },
  {
   "cell_type": "code",
   "execution_count": 24,
   "metadata": {},
   "outputs": [],
   "source": [
    "net_json = open('computersci-data.json', 'w')\n",
    "net_json.write(json.dumps(elements, indent=4, separators=(',', ': ')))\n",
    "net_json.close()"
   ]
  },
  {
   "cell_type": "code",
   "execution_count": 25,
   "metadata": {},
   "outputs": [],
   "source": [
    "stylesheet = [{\n",
    "                \"selector\": \"node[label]\",\n",
    "                \"style\": {\n",
    "                    \"label\": \"data(label)\",\n",
    "                    \"width\": \"20px\",\n",
    "                    \"height\": \"20px\",\n",
    "                    \"color\": 'black', #text color\n",
    "                    \"font-size\": \"16px\",\n",
    "                    \"background-color\": \"#3a3c7d\", #\"#dc143c\", #node color\n",
    "                    \"line-color\": \"#C8C8C8\"\n",
    "                    }\n",
    "                },\n",
    "                {\n",
    "                \"selector\": '.lb',\n",
    "                    \"style\": {\n",
    "                     \"text-halign\": \"left\",\n",
    "                     \"text-valign\": \"bottom\",   \n",
    "                    }\n",
    "                },    \n",
    "                 {\n",
    "                \"selector\": '.rb',\n",
    "                    \"style\": {\n",
    "                     \"text-halign\": \"right\",\n",
    "                     \"text-valign\": \"bottom\",   \n",
    "                    }\n",
    "                },  \n",
    "                 {\n",
    "                \"selector\": '.rc',\n",
    "                    \"style\": {\n",
    "                     \"text-halign\": \"right\",\n",
    "                     \"text-valign\": \"center\",   \n",
    "                    }\n",
    "                },  \n",
    "                {\n",
    "                \"selector\": \"edge\",\n",
    "                \"style\": {\n",
    "                    \n",
    "                    \"width\": 1.5,\n",
    "                    #'target-arrow-color': '#030512',\n",
    "                    #'target-arrow-shape': 'triangle'\n",
    "                         }\n",
    "                }, \n",
    "                {\n",
    "                \"selector\": \".bezier\", # edge.bezier\n",
    "\n",
    "                \"style\": {\n",
    "                'target-arrow-shape': 'triangle',    \n",
    "                \"curve-style\": \"bezier\",\n",
    "                \"control-point-step-size\": 25\n",
    "                         }\n",
    "                },\n",
    "                {\n",
    "                \"selector\": \".haystack\",\n",
    "                \"style\": {\n",
    "                    \"curve-style\": \"haystack\",\n",
    "                    \"haystack-radius\": 0,\n",
    "                    'target-arrow-shape': 'triangle'\n",
    "                         }\n",
    "                },\n",
    "                {\n",
    "                'selector': \"[rank='Asst']\",\n",
    "                'style': {\n",
    "                    'line-color': '#e763fa', # '#599fc4',\n",
    "                     'target-arrow-color': '#e763fa'\n",
    "                         }\n",
    "                },\n",
    "                {\n",
    "                'selector':   \"[rank='Assoc']\",\n",
    "                'style': {\n",
    "                    'line-color': '#ab63fa', #'#3e6db2',\n",
    "                    'target-arrow-color': '#ab63fa'\n",
    "                    #'width': 1.5\n",
    "\n",
    "                         }\n",
    "                },\n",
    "                {\n",
    "                'selector':  \"[rank='Full']\",\n",
    "                'style': {\n",
    "                    'line-color':  '#636efa', #'#2c2a57',\n",
    "                     'target-arrow-color': '#636efa'\n",
    "                     #'width': 2\n",
    "                     }\n",
    "                },\n",
    "                {\n",
    "                \"selector\": \"[loop=90]\",\n",
    "                \"style\": {\n",
    "                    \"loop-direction\": \"90deg\"\n",
    "                }\n",
    "                },\n",
    "                {\n",
    "                \"selector\": \"[loop=-180]\",\n",
    "                \"style\": {\n",
    "                \"loop-direction\": \"-180deg\"\n",
    "                         }\n",
    "                },\n",
    "                {\n",
    "                \"selector\": \"[loop=0]\",\n",
    "                \"style\": {\n",
    "                    \"loop-direction\": \"0deg\"\n",
    "                         }\n",
    "                },\n",
    "               {\n",
    "                \"selector\": \"[loop=45]\",\n",
    "                \"style\": {\n",
    "                    \"loop-direction\": \"45deg\"\n",
    "                         }\n",
    "                }]      "
   ]
  },
  {
   "cell_type": "code",
   "execution_count": null,
   "metadata": {},
   "outputs": [],
   "source": [
    "stylesheet"
   ]
  },
  {
   "cell_type": "code",
   "execution_count": 26,
   "metadata": {},
   "outputs": [],
   "source": [
    "net_json = open('computersci-style.json', 'w')\n",
    "net_json.write(json.dumps(stylesheet, indent=4, separators=(',', ': ')))\n",
    "net_json.close()"
   ]
  },
  {
   "cell_type": "code",
   "execution_count": null,
   "metadata": {},
   "outputs": [],
   "source": []
  },
  {
   "cell_type": "code",
   "execution_count": null,
   "metadata": {},
   "outputs": [],
   "source": []
  }
 ],
 "metadata": {
  "kernelspec": {
   "display_name": "Python 3",
   "language": "python",
   "name": "python3"
  },
  "language_info": {
   "codemirror_mode": {
    "name": "ipython",
    "version": 3
   },
   "file_extension": ".py",
   "mimetype": "text/x-python",
   "name": "python",
   "nbconvert_exporter": "python",
   "pygments_lexer": "ipython3",
   "version": "3.7.1"
  }
 },
 "nbformat": 4,
 "nbformat_minor": 2
}
